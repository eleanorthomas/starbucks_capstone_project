{
 "cells": [
  {
   "cell_type": "markdown",
   "metadata": {},
   "source": [
    "# Capstone Project - Portfolio Exercise Starbucks\n",
    " \n",
    "## Project Definition \n",
    "\n",
    "The following is adapted from the Udacity exercise description.\n",
    "\n",
    "### Background Information\n",
    "\n",
    "The dataset provided in this portfolio exercise was originally used as a take-home assignment provided by Starbucks for their candidates. The data for this exercise consists of about 120,000 data points split in 2:1 ratio among training and test files. Each data point includes one column indicating whether or not an individual was sent a promotion for a specific product, and one column indicating whether or not that individual eventually purchased that product. Each individual also had seven additional features associated with them.\n",
    "\n",
    "The training data is provided below.\n",
    "\n",
    "For a full description of what Starbucks provides to candidates see the [instructions available here](https://drive.google.com/open?id=18klca9Sef1Rs6q8DW4l7o349r8B70qXM).\n",
    "\n",
    "## Problem Statement\n",
    "\n",
    "The task is to use the training data to understand what patterns in V1-V7 (the training features) to indicate that a promotion should be provided to a user. The expected solution will be a function called **promotion_strategy**, likely utilizing some form of machine learning classification strategy in order to classify users into two categories: \"send promotion\" and \"do not send promotion\". The results will be compared with Starbucks's solution (see \"Testing & Evaluation\").\n",
    "\n",
    "## Metrics\n",
    "\n",
    "### Optimization Metrics\n",
    "\n",
    "Specifically, the goal is to maximize the following metrics:\n",
    "\n",
    "* **Incremental Response Rate (IRR)** \n",
    "\n",
    "Ratio of the number of purchasers in the promotion group to the total number of customers in the promotion group minus the ratio of the number of purchasers in the non-promotional group to the total number of customers in the non-promotional group.\n",
    "\n",
    "* **Net Incremental Revenue (NIR)**\n",
    "\n",
    "The total number of purchasers that received the promotion times 10 minus the number of promotions given times 0.15 minus the number of purchasers who were not given the promotion times 10.\n",
    "\n",
    "### Testing & Evaluation Metrics\n",
    "\n",
    "The success of the optimization strategy will be evaluated against Starbucks' promotion strategy. The strategy will be implemented within the **promotion_strategy** function and passed to the **test_results** function for evaluation.\n",
    "\n",
    "There are four possible outomes relative to past data:\n",
    "\n",
    "Table of actual promotion vs. predicted promotion customers.  \n",
    "\n",
    "```\n",
    "\n",
    "|   | Actual      |     |    | \n",
    "|---|-------------|-----|----|\n",
    "| Predicted       | Yes | No |  \n",
    "| Yes             | I   | II |  \n",
    "| No              | III | IV | \n",
    "```\n",
    "\n",
    "The metrics will only be compared for the individuals which Starbucks predicts should obtain the promotion - that is quadrants I and II here. Since the first set of individuals that receive the promotion (in the training set) receive it randomly, we can expect that quadrants I and II will have approximately equal participants.  "
   ]
  },
  {
   "cell_type": "markdown",
   "metadata": {},
   "source": [
    "## Analysis\n",
    "\n",
    "First we will read in the data below and examine how each variable or combination of variables along with a promotion influences the chance of purchasing. We will include visualizations of the relationships between variables, promotions and purchasing."
   ]
  },
  {
   "cell_type": "code",
   "execution_count": 53,
   "metadata": {},
   "outputs": [],
   "source": [
    "# load in packages\n",
    "from itertools import combinations\n",
    "\n",
    "from test_results import test_results, score\n",
    "import numpy as np\n",
    "import pandas as pd\n",
    "import scipy as sp\n",
    "import sklearn as sk\n",
    "from sklearn.model_selection import train_test_split\n",
    "from sklearn.ensemble import RandomForestClassifier, AdaBoostClassifier\n",
    "from sklearn.naive_bayes import GaussianNB\n",
    "\n",
    "import matplotlib.pyplot as plt\n",
    "import seaborn as sb\n",
    "%matplotlib inline\n",
    "\n",
    "# load in the data\n",
    "train_data = pd.read_csv('./data/training.csv')"
   ]
  },
  {
   "cell_type": "markdown",
   "metadata": {},
   "source": [
    "### Data Exploration\n",
    "\n",
    "The first steps for data exploration are to view a sample of the data and calculate some descriptive statistics."
   ]
  },
  {
   "cell_type": "code",
   "execution_count": 16,
   "metadata": {},
   "outputs": [
    {
     "data": {
      "text/html": [
       "<div>\n",
       "<style scoped>\n",
       "    .dataframe tbody tr th:only-of-type {\n",
       "        vertical-align: middle;\n",
       "    }\n",
       "\n",
       "    .dataframe tbody tr th {\n",
       "        vertical-align: top;\n",
       "    }\n",
       "\n",
       "    .dataframe thead th {\n",
       "        text-align: right;\n",
       "    }\n",
       "</style>\n",
       "<table border=\"1\" class=\"dataframe\">\n",
       "  <thead>\n",
       "    <tr style=\"text-align: right;\">\n",
       "      <th></th>\n",
       "      <th>ID</th>\n",
       "      <th>Promotion</th>\n",
       "      <th>purchase</th>\n",
       "      <th>V1</th>\n",
       "      <th>V2</th>\n",
       "      <th>V3</th>\n",
       "      <th>V4</th>\n",
       "      <th>V5</th>\n",
       "      <th>V6</th>\n",
       "      <th>V7</th>\n",
       "    </tr>\n",
       "  </thead>\n",
       "  <tbody>\n",
       "    <tr>\n",
       "      <th>0</th>\n",
       "      <td>1</td>\n",
       "      <td>No</td>\n",
       "      <td>0</td>\n",
       "      <td>2</td>\n",
       "      <td>30.443518</td>\n",
       "      <td>-1.165083</td>\n",
       "      <td>1</td>\n",
       "      <td>1</td>\n",
       "      <td>3</td>\n",
       "      <td>2</td>\n",
       "    </tr>\n",
       "    <tr>\n",
       "      <th>1</th>\n",
       "      <td>3</td>\n",
       "      <td>No</td>\n",
       "      <td>0</td>\n",
       "      <td>3</td>\n",
       "      <td>32.159350</td>\n",
       "      <td>-0.645617</td>\n",
       "      <td>2</td>\n",
       "      <td>3</td>\n",
       "      <td>2</td>\n",
       "      <td>2</td>\n",
       "    </tr>\n",
       "    <tr>\n",
       "      <th>2</th>\n",
       "      <td>4</td>\n",
       "      <td>No</td>\n",
       "      <td>0</td>\n",
       "      <td>2</td>\n",
       "      <td>30.431659</td>\n",
       "      <td>0.133583</td>\n",
       "      <td>1</td>\n",
       "      <td>1</td>\n",
       "      <td>4</td>\n",
       "      <td>2</td>\n",
       "    </tr>\n",
       "    <tr>\n",
       "      <th>3</th>\n",
       "      <td>5</td>\n",
       "      <td>No</td>\n",
       "      <td>0</td>\n",
       "      <td>0</td>\n",
       "      <td>26.588914</td>\n",
       "      <td>-0.212728</td>\n",
       "      <td>2</td>\n",
       "      <td>1</td>\n",
       "      <td>4</td>\n",
       "      <td>2</td>\n",
       "    </tr>\n",
       "    <tr>\n",
       "      <th>4</th>\n",
       "      <td>8</td>\n",
       "      <td>Yes</td>\n",
       "      <td>0</td>\n",
       "      <td>3</td>\n",
       "      <td>28.044332</td>\n",
       "      <td>-0.385883</td>\n",
       "      <td>1</td>\n",
       "      <td>1</td>\n",
       "      <td>2</td>\n",
       "      <td>2</td>\n",
       "    </tr>\n",
       "  </tbody>\n",
       "</table>\n",
       "</div>"
      ],
      "text/plain": [
       "   ID Promotion  purchase  V1         V2        V3  V4  V5  V6  V7\n",
       "0   1        No         0   2  30.443518 -1.165083   1   1   3   2\n",
       "1   3        No         0   3  32.159350 -0.645617   2   3   2   2\n",
       "2   4        No         0   2  30.431659  0.133583   1   1   4   2\n",
       "3   5        No         0   0  26.588914 -0.212728   2   1   4   2\n",
       "4   8       Yes         0   3  28.044332 -0.385883   1   1   2   2"
      ]
     },
     "execution_count": 16,
     "metadata": {},
     "output_type": "execute_result"
    }
   ],
   "source": [
    "train_data.head()"
   ]
  },
  {
   "cell_type": "code",
   "execution_count": 36,
   "metadata": {},
   "outputs": [
    {
     "data": {
      "text/plain": [
       "Yes    42364\n",
       "No     42170\n",
       "Name: Promotion, dtype: int64"
      ]
     },
     "execution_count": 36,
     "metadata": {},
     "output_type": "execute_result"
    }
   ],
   "source": [
    "train_data.Promotion.value_counts()"
   ]
  },
  {
   "cell_type": "code",
   "execution_count": 13,
   "metadata": {},
   "outputs": [
    {
     "data": {
      "text/html": [
       "<div>\n",
       "<style scoped>\n",
       "    .dataframe tbody tr th:only-of-type {\n",
       "        vertical-align: middle;\n",
       "    }\n",
       "\n",
       "    .dataframe tbody tr th {\n",
       "        vertical-align: top;\n",
       "    }\n",
       "\n",
       "    .dataframe thead th {\n",
       "        text-align: right;\n",
       "    }\n",
       "</style>\n",
       "<table border=\"1\" class=\"dataframe\">\n",
       "  <thead>\n",
       "    <tr style=\"text-align: right;\">\n",
       "      <th></th>\n",
       "      <th>ID</th>\n",
       "      <th>purchase</th>\n",
       "      <th>V1</th>\n",
       "      <th>V2</th>\n",
       "      <th>V3</th>\n",
       "      <th>V4</th>\n",
       "      <th>V5</th>\n",
       "      <th>V6</th>\n",
       "      <th>V7</th>\n",
       "    </tr>\n",
       "  </thead>\n",
       "  <tbody>\n",
       "    <tr>\n",
       "      <th>count</th>\n",
       "      <td>84534.000000</td>\n",
       "      <td>84534.000000</td>\n",
       "      <td>84534.000000</td>\n",
       "      <td>84534.000000</td>\n",
       "      <td>84534.000000</td>\n",
       "      <td>84534.000000</td>\n",
       "      <td>84534.000000</td>\n",
       "      <td>84534.000000</td>\n",
       "      <td>84534.000000</td>\n",
       "    </tr>\n",
       "    <tr>\n",
       "      <th>mean</th>\n",
       "      <td>62970.972413</td>\n",
       "      <td>0.012303</td>\n",
       "      <td>1.500662</td>\n",
       "      <td>29.973600</td>\n",
       "      <td>0.000190</td>\n",
       "      <td>1.679608</td>\n",
       "      <td>2.327643</td>\n",
       "      <td>2.502898</td>\n",
       "      <td>1.701694</td>\n",
       "    </tr>\n",
       "    <tr>\n",
       "      <th>std</th>\n",
       "      <td>36418.440539</td>\n",
       "      <td>0.110234</td>\n",
       "      <td>0.868234</td>\n",
       "      <td>5.010626</td>\n",
       "      <td>1.000485</td>\n",
       "      <td>0.466630</td>\n",
       "      <td>0.841167</td>\n",
       "      <td>1.117349</td>\n",
       "      <td>0.457517</td>\n",
       "    </tr>\n",
       "    <tr>\n",
       "      <th>min</th>\n",
       "      <td>1.000000</td>\n",
       "      <td>0.000000</td>\n",
       "      <td>0.000000</td>\n",
       "      <td>7.104007</td>\n",
       "      <td>-1.684550</td>\n",
       "      <td>1.000000</td>\n",
       "      <td>1.000000</td>\n",
       "      <td>1.000000</td>\n",
       "      <td>1.000000</td>\n",
       "    </tr>\n",
       "    <tr>\n",
       "      <th>25%</th>\n",
       "      <td>31467.250000</td>\n",
       "      <td>0.000000</td>\n",
       "      <td>1.000000</td>\n",
       "      <td>26.591501</td>\n",
       "      <td>-0.905350</td>\n",
       "      <td>1.000000</td>\n",
       "      <td>2.000000</td>\n",
       "      <td>2.000000</td>\n",
       "      <td>1.000000</td>\n",
       "    </tr>\n",
       "    <tr>\n",
       "      <th>50%</th>\n",
       "      <td>62827.500000</td>\n",
       "      <td>0.000000</td>\n",
       "      <td>2.000000</td>\n",
       "      <td>29.979744</td>\n",
       "      <td>-0.039572</td>\n",
       "      <td>2.000000</td>\n",
       "      <td>2.000000</td>\n",
       "      <td>3.000000</td>\n",
       "      <td>2.000000</td>\n",
       "    </tr>\n",
       "    <tr>\n",
       "      <th>75%</th>\n",
       "      <td>94438.750000</td>\n",
       "      <td>0.000000</td>\n",
       "      <td>2.000000</td>\n",
       "      <td>33.344593</td>\n",
       "      <td>0.826206</td>\n",
       "      <td>2.000000</td>\n",
       "      <td>3.000000</td>\n",
       "      <td>4.000000</td>\n",
       "      <td>2.000000</td>\n",
       "    </tr>\n",
       "    <tr>\n",
       "      <th>max</th>\n",
       "      <td>126184.000000</td>\n",
       "      <td>1.000000</td>\n",
       "      <td>3.000000</td>\n",
       "      <td>50.375913</td>\n",
       "      <td>1.691984</td>\n",
       "      <td>2.000000</td>\n",
       "      <td>4.000000</td>\n",
       "      <td>4.000000</td>\n",
       "      <td>2.000000</td>\n",
       "    </tr>\n",
       "  </tbody>\n",
       "</table>\n",
       "</div>"
      ],
      "text/plain": [
       "                  ID      purchase            V1            V2            V3  \\\n",
       "count   84534.000000  84534.000000  84534.000000  84534.000000  84534.000000   \n",
       "mean    62970.972413      0.012303      1.500662     29.973600      0.000190   \n",
       "std     36418.440539      0.110234      0.868234      5.010626      1.000485   \n",
       "min         1.000000      0.000000      0.000000      7.104007     -1.684550   \n",
       "25%     31467.250000      0.000000      1.000000     26.591501     -0.905350   \n",
       "50%     62827.500000      0.000000      2.000000     29.979744     -0.039572   \n",
       "75%     94438.750000      0.000000      2.000000     33.344593      0.826206   \n",
       "max    126184.000000      1.000000      3.000000     50.375913      1.691984   \n",
       "\n",
       "                 V4            V5            V6            V7  \n",
       "count  84534.000000  84534.000000  84534.000000  84534.000000  \n",
       "mean       1.679608      2.327643      2.502898      1.701694  \n",
       "std        0.466630      0.841167      1.117349      0.457517  \n",
       "min        1.000000      1.000000      1.000000      1.000000  \n",
       "25%        1.000000      2.000000      2.000000      1.000000  \n",
       "50%        2.000000      2.000000      3.000000      2.000000  \n",
       "75%        2.000000      3.000000      4.000000      2.000000  \n",
       "max        2.000000      4.000000      4.000000      2.000000  "
      ]
     },
     "execution_count": 13,
     "metadata": {},
     "output_type": "execute_result"
    }
   ],
   "source": [
    "train_data.describe()"
   ]
  },
  {
   "cell_type": "markdown",
   "metadata": {},
   "source": [
    "### Visualization\n",
    "\n",
    "After viewing the descriptive statistics above for the various features V1-V7, it would be helpful also to visualize each of these features as a histogram to get a general sense of how the features are distributed."
   ]
  },
  {
   "cell_type": "code",
   "execution_count": 28,
   "metadata": {},
   "outputs": [
    {
     "data": {
      "image/png": "[encoded data removed]",
      "text/plain": [
       "<Figure size 1440x360 with 7 Axes>"
      ]
     },
     "metadata": {
      "needs_background": "light"
     },
     "output_type": "display_data"
    }
   ],
   "source": [
    "fig, ax = plt.subplots(1,7, figsize=(20, 5))\n",
    "ax[0].hist(train_data.V1, bins=10)\n",
    "ax[0].set_title('V1 Histogram')\n",
    "ax[1].hist(train_data.V2, bins=10)\n",
    "ax[1].set_title('V2 Histogram')\n",
    "ax[2].hist(train_data.V3, bins=10)\n",
    "ax[2].set_title('V3 Histogram')\n",
    "ax[3].hist(train_data.V4, bins=10)\n",
    "ax[3].set_title('V4 Histogram')\n",
    "ax[4].hist(train_data.V5, bins=10)\n",
    "ax[4].set_title('V5 Histogram')\n",
    "ax[5].hist(train_data.V6, bins=10)\n",
    "ax[5].set_title('V6 Histogram')\n",
    "ax[6].hist(train_data.V7, bins=10)\n",
    "ax[6].set_title('V7 Histogram')\n",
    "plt.show()"
   ]
  },
  {
   "cell_type": "markdown",
   "metadata": {},
   "source": [
    "Some observations, based on the descriptive statistics and histograms:\n",
    "    - V1, V4, V5, V6 and V7 appear to be discretely distributed with values rangeing between 0 and 4 depending on the metric.\n",
    "    - V2 appears to be approximately normally distributed around a mean of 30 or so, with standard deviation of about 5.\n",
    "    - V3 appears to be uniformly distributed between approximately -1.7 and 1.7 with mean of around 0."
   ]
  },
  {
   "cell_type": "markdown",
   "metadata": {},
   "source": [
    "The next step will be to implement the optimization metrics as defined above (IRR and NIR) and calculate the values for Starbucks's solution on the training data to give us a benchmark for our classifiers."
   ]
  },
  {
   "cell_type": "code",
   "execution_count": 31,
   "metadata": {},
   "outputs": [],
   "source": [
    "def calc_irr(df):\n",
    "    '''\n",
    "    Ratio of the number of purchasers in the promotion group to the total number of customers\n",
    "    in the promotion group minus the ratio of the number of purchasers in the non-promotional\n",
    "    group to the total number of customers in the non-promotional group.\n",
    "    '''\n",
    "    num_purchasers_prom = len(df[(df['Promotion'] == 'Yes') & df['purchase']])\n",
    "    tot_promo = len(df[df['Promotion'] == 'Yes'])\n",
    "    \n",
    "    num_purchasers_noprom = len(df[(df['Promotion'] == 'No') & df['purchase']])\n",
    "    tot_no_promo = len(df[df['Promotion'] == 'No'])\n",
    "    \n",
    "    irr = num_purchasers_prom / tot_promo - num_purchasers_noprom / tot_no_promo\n",
    "    \n",
    "    return irr"
   ]
  },
  {
   "cell_type": "code",
   "execution_count": 32,
   "metadata": {},
   "outputs": [
    {
     "data": {
      "text/plain": [
       "0.009454547819772702"
      ]
     },
     "execution_count": 32,
     "metadata": {},
     "output_type": "execute_result"
    }
   ],
   "source": [
    "calc_irr(train_data)"
   ]
  },
  {
   "cell_type": "code",
   "execution_count": 33,
   "metadata": {},
   "outputs": [],
   "source": [
    "def calc_nir(df):\n",
    "    '''\n",
    "    The total number of purchasers that received the promotion times 10\n",
    "    minus the number of promotions given times 0.15\n",
    "    minus the number of purchasers who were not given the promotion times 10.\n",
    "    '''\n",
    "\n",
    "    num_purchasers_prom = len(df[(df['Promotion'] == 'Yes') & df['purchase']])\n",
    "    tot_promo = len(df[df['Promotion'] == 'Yes'])\n",
    "    num_purchasers_noprom = len(df[(df['Promotion'] == 'No') & df['purchase']])\n",
    "    \n",
    "    nir = num_purchasers_prom * 10 - tot_promo * 0.15 - num_purchasers_noprom * 10\n",
    "    \n",
    "    return nir"
   ]
  },
  {
   "cell_type": "code",
   "execution_count": 34,
   "metadata": {},
   "outputs": [
    {
     "data": {
      "text/plain": [
       "-2334.5999999999995"
      ]
     },
     "execution_count": 34,
     "metadata": {},
     "output_type": "execute_result"
    }
   ],
   "source": [
    "calc_nir(train_data)"
   ]
  },
  {
   "cell_type": "markdown",
   "metadata": {},
   "source": [
    "As we can see, the IRR for the training set is fairly low, only about 1%, although without industry context, it is unclear whether this is low relative to industry standard. This rate will be taken as our benchmark rate.\n",
    "\n",
    "The NIR is also quite low, with a loss of over $2000 on the campaign. Given that the number of those who receive the promotion and the number who do not are fairly close (42364 vs. 42170), this metric is not skewed by a biased sample, and we would hope to be able to bring it above 0 with our solution, but at least above this benchmark metric of -2334.6."
   ]
  },
  {
   "cell_type": "markdown",
   "metadata": {},
   "source": [
    "## Methodology \n",
    "\n",
    "### Preprocessing\n",
    "\n",
    "Now that we have explored and visualized the data, formulated a strategy and identified benchmarks, we must first preprocess the data in order to prepare it for implementing our strategy."
   ]
  },
  {
   "cell_type": "code",
   "execution_count": 37,
   "metadata": {},
   "outputs": [
    {
     "name": "stdout",
     "output_type": "stream",
     "text": [
      "<class 'pandas.core.frame.DataFrame'>\n",
      "RangeIndex: 84534 entries, 0 to 84533\n",
      "Data columns (total 10 columns):\n",
      "ID           84534 non-null int64\n",
      "Promotion    84534 non-null object\n",
      "purchase     84534 non-null int64\n",
      "V1           84534 non-null int64\n",
      "V2           84534 non-null float64\n",
      "V3           84534 non-null float64\n",
      "V4           84534 non-null int64\n",
      "V5           84534 non-null int64\n",
      "V6           84534 non-null int64\n",
      "V7           84534 non-null int64\n",
      "dtypes: float64(2), int64(7), object(1)\n",
      "memory usage: 6.4+ MB\n"
     ]
    }
   ],
   "source": [
    "train_data.info()"
   ]
  },
  {
   "cell_type": "code",
   "execution_count": 38,
   "metadata": {},
   "outputs": [
    {
     "name": "stdout",
     "output_type": "stream",
     "text": [
      "0 missing values in column ID\n",
      "0 missing values in column Promotion\n",
      "0 missing values in column purchase\n",
      "0 missing values in column V1\n",
      "0 missing values in column V2\n",
      "0 missing values in column V3\n",
      "0 missing values in column V4\n",
      "0 missing values in column V5\n",
      "0 missing values in column V6\n",
      "0 missing values in column V7\n"
     ]
    }
   ],
   "source": [
    "for col in train_data.columns:\n",
    "    print('{} missing values in column {}'.format(train_data[col].isnull().sum(), col))"
   ]
  },
  {
   "cell_type": "markdown",
   "metadata": {},
   "source": [
    "We can see that there are no missing values in the data, and all of the features are numeric.\n",
    "\n",
    "It is possible that the discrete features should be treated as categorical, but at this stage we cannot know for sure, so we will proceed by treating them as numeric and see where this gets us. We can treat them as categorical and create dummy features later if need be and see if it improves our results.\n",
    "\n",
    "In order to implement a classification strategy, we will need to identify a target variable and consider `V1`-`V7` as our features.\n",
    "\n",
    "We can ignore the `ID` field. Our target variable should be whether or not an individual **should** receive a promotion, which will be modeled as the set of individuals which **did** receive a promotion and **did** purchase as well as those users who **did not** receive a promotion and **did not** purchase. Users who **should not** receive a promotion will be those who **did** receive one and **did not** purchase as well as those who **did** receive one and **did not** purchase.\n",
    "\n",
    "The reasoning behind this model is that those who purchased without receiving a promotion or did not purchase despite receiving one were not positively affected by the promotion enough to purchase, or would have purchased anyway. The others, it can't be said for sure, but there is the possibility that they were either encouraged to purchase based on the promotion or they would have purchased had they received one."
   ]
  },
  {
   "cell_type": "code",
   "execution_count": 68,
   "metadata": {},
   "outputs": [],
   "source": [
    "train_data['Send Promotion'] = train_data.apply(lambda row: 1 if (row.Promotion == 'Yes' and row.purchase)\n",
    "                                                              or (row.Promotion == 'No' and not row.purchase)\n",
    "                                                            else 0, axis=1)"
   ]
  },
  {
   "cell_type": "code",
   "execution_count": 70,
   "metadata": {},
   "outputs": [],
   "source": [
    "features = train_data[['V1', 'V2', 'V3', 'V4', 'V5', 'V6', 'V7']]"
   ]
  },
  {
   "cell_type": "code",
   "execution_count": 71,
   "metadata": {},
   "outputs": [],
   "source": [
    "target = train_data[['Send Promotion']]"
   ]
  },
  {
   "cell_type": "markdown",
   "metadata": {},
   "source": [
    "### Implementation & Refinement\n",
    "\n",
    "Now that we have explored and preprocessed the data, we will implement and refine our classification strategy for determining who should receive the Starbucks promotion.\n",
    "\n",
    "First we will need to split our training data into two sets, for training and testing our classifier, and create a reusable function which can train a given classifier, generate predictions for the training and testing set, and then calculate scores for each set of predictions as compared to the true value."
   ]
  },
  {
   "cell_type": "code",
   "execution_count": 72,
   "metadata": {},
   "outputs": [],
   "source": [
    "X_train, X_test, y_train, y_test = train_test_split(features, target, test_size=0.25, random_state=0)"
   ]
  },
  {
   "cell_type": "code",
   "execution_count": 73,
   "metadata": {},
   "outputs": [],
   "source": [
    "def train_predict(classifier, X_train, y_train, X_test, y_test):\n",
    "    classifier = classifier.fit(X_train, y_train)\n",
    "    \n",
    "    preds_train = classifier.predict(X_train)\n",
    "    preds_test = classifier.predict(X_test)\n",
    "    \n",
    "    acc_train = classifier.score(X_train, y_train)\n",
    "    acc_test = classifier.score(X_test, y_test)\n",
    "    \n",
    "    return preds_train, preds_test, acc_train, acc_test"
   ]
  },
  {
   "cell_type": "markdown",
   "metadata": {},
   "source": [
    "Now we have everything we need to begin classifying. We will attempt classification with the following three classifiers:\n",
    "    - Naive Bayes (GaussianNB)\n",
    "    - RandomForestClassifier\n",
    "    - AdaBoostClassifier"
   ]
  },
  {
   "cell_type": "code",
   "execution_count": 74,
   "metadata": {},
   "outputs": [
    {
     "name": "stdout",
     "output_type": "stream",
     "text": [
      "Training score: 0.5085173501577287; Test score: 0.5092268382700861\n"
     ]
    },
    {
     "name": "stderr",
     "output_type": "stream",
     "text": [
      "/Library/Frameworks/Python.framework/Versions/3.6/lib/python3.6/site-packages/ipykernel_launcher.py:2: DataConversionWarning: A column-vector y was passed when a 1d array was expected. Please change the shape of y to (n_samples,), for example using ravel().\n",
      "  \n"
     ]
    },
    {
     "name": "stdout",
     "output_type": "stream",
     "text": [
      "Training score: 0.9685331230283911; Test score: 0.4940380429639444\n"
     ]
    },
    {
     "name": "stderr",
     "output_type": "stream",
     "text": [
      "/usr/local/lib/python3.6/site-packages/sklearn/utils/validation.py:578: DataConversionWarning: A column-vector y was passed when a 1d array was expected. Please change the shape of y to (n_samples, ), for example using ravel().\n",
      "  y = column_or_1d(y, warn=True)\n"
     ]
    },
    {
     "name": "stdout",
     "output_type": "stream",
     "text": [
      "Training score: 0.5136277602523659; Test score: 0.5000473171193338\n"
     ]
    }
   ],
   "source": [
    "classifiers = [GaussianNB(), RandomForestClassifier(), AdaBoostClassifier()]\n",
    "\n",
    "for clf in classifiers:\n",
    "    _, _, acc_train, acc_test = train_predict(clf, X_train, y_train, X_test, y_test)\n",
    "    \n",
    "    print(\"Training score: {}; Test score: {}\".format(acc_train, acc_test))"
   ]
  },
  {
   "cell_type": "markdown",
   "metadata": {},
   "source": [
    "We can see from the results above that our RandomForestClassifier is massively overtraining (with training score ~100% but testing score not much better than chance) and both of the other classifiers do no better than chance.\n",
    "\n",
    "Since the GaussianNB classifier doesn't have much in the way of hyperparameters to optimize, we will attempt to refine and optimize the AdaBoostClassifier to see if we can improve our prediction significantly above chance levels, and more importantly to improve our NIR and IRR metrics over the benchmark values."
   ]
  },
  {
   "cell_type": "code",
   "execution_count": 100,
   "metadata": {},
   "outputs": [],
   "source": [
    "chosen_classifier = AdaBoostClassifier(n_estimators=300, learning_rate=0.8, random_state=0)"
   ]
  },
  {
   "cell_type": "code",
   "execution_count": 101,
   "metadata": {},
   "outputs": [
    {
     "name": "stderr",
     "output_type": "stream",
     "text": [
      "/usr/local/lib/python3.6/site-packages/sklearn/utils/validation.py:578: DataConversionWarning: A column-vector y was passed when a 1d array was expected. Please change the shape of y to (n_samples, ), for example using ravel().\n",
      "  y = column_or_1d(y, warn=True)\n"
     ]
    },
    {
     "name": "stdout",
     "output_type": "stream",
     "text": [
      "Training score: 0.5178391167192429; Test score: 0.5030756127566953\n"
     ]
    }
   ],
   "source": [
    "_, _, acc_train, acc_test = train_predict(chosen_classifier, X_train, y_train, X_test, y_test)\n",
    "print(\"Training score: {}; Test score: {}\".format(acc_train, acc_test))"
   ]
  },
  {
   "cell_type": "markdown",
   "metadata": {},
   "source": [
    "We are not able to do significantly better than chance, regardless of the hyperparameters offered, but let's evaluate our promotion strategy regardless."
   ]
  },
  {
   "cell_type": "code",
   "execution_count": 108,
   "metadata": {},
   "outputs": [],
   "source": [
    "def promotion_strategy(df):\n",
    "    '''\n",
    "    INPUT \n",
    "    df - a dataframe with *only* the columns V1 - V7 (same as train_data)\n",
    "\n",
    "    OUTPUT\n",
    "    promotion_df - np.array with the values\n",
    "                   'Yes' or 'No' related to whether or not an \n",
    "                   individual should recieve a promotion \n",
    "                   should be the length of df.shape[0]\n",
    "                \n",
    "    Ex:\n",
    "    INPUT: df\n",
    "    \n",
    "    V1\tV2\t  V3\tV4\tV5\tV6\tV7\n",
    "    2\t30\t-1.1\t1\t1\t3\t2\n",
    "    3\t32\t-0.6\t2\t3\t2\t2\n",
    "    2\t30\t0.13\t1\t1\t4\t2\n",
    "    \n",
    "    OUTPUT: promotion\n",
    "    \n",
    "    array(['Yes', 'Yes', 'No'])\n",
    "    indicating the first two users would recieve the promotion and \n",
    "    the last should not.\n",
    "    '''\n",
    "    \n",
    "    res = chosen_classifier.predict(df[['V1', 'V2', 'V3', 'V4', 'V5', 'V6', 'V7']])\n",
    "    promotion = np.array([('Yes' if x == 1 else 'No') for x in res])\n",
    "    \n",
    "    return promotion"
   ]
  },
  {
   "cell_type": "markdown",
   "metadata": {},
   "source": [
    "## Results - Evaluation & Justification\n",
    "\n",
    "Next we must evaluate our results using the `test_results` function provided and justify our decisions regarding implementation of this particular strategy as opposed to others."
   ]
  },
  {
   "cell_type": "code",
   "execution_count": 109,
   "metadata": {},
   "outputs": [
    {
     "name": "stdout",
     "output_type": "stream",
     "text": [
      "Nice job!  See how well your strategy worked on our test data below!\n",
      "\n",
      "Your irr with this strategy is 0.01.\n",
      "\n",
      "Your nir with this strategy is -466.85.\n",
      "Approximately, the highest scores obtained at Udacity were: irr of 0.1 and an nir of 300.\n",
      "\n",
      " How did you do?\n"
     ]
    },
    {
     "data": {
      "text/plain": [
       "(0.01150240766862869, -466.8499999999999)"
      ]
     },
     "execution_count": 109,
     "metadata": {},
     "output_type": "execute_result"
    }
   ],
   "source": [
    "test_results(promotion_strategy)"
   ]
  },
  {
   "cell_type": "markdown",
   "metadata": {},
   "source": [
    "As we can see from our results, we were able to beat the random-assignment benchmark value for NIR listed above and come in line with the benchmark value for IRR, but did not reach the highest IRR and NIR values obtained at Udacity.\n",
    "\n",
    "The decision to implement a classifier based on the features and target variable defined above was the most natural first attempt, though may not have been the optimal strategy for this project."
   ]
  },
  {
   "cell_type": "markdown",
   "metadata": {},
   "source": [
    "## Conclusion\n",
    "\n",
    "Finally, we will reflect on the results achieved and identify areas for potential improvement.\n",
    "\n",
    "### Reflection\n",
    "\n",
    "\n",
    "Given that the classifiers implemented did not do much better than chance levels at predicting whether an individual was flagged for promotion, it is not surprising that the results were not phenomenal. It is also very possible that the initial decisions to consider the discrete features as numeric rather than categorical, or how to classify individuals into whether or not they should receive a promotion were not the best choices, but they were simple first-pass assumptions for this project, and the results were still able to beat random-assignment in NIR.\n",
    "\n",
    "### Areas for Improvement\n",
    "\n",
    "The first area for improvement I would attempt would be to define the discrete features as categorical variables and re-attempt classification with the new feature set.\n",
    "\n",
    "The second area for improvement I would consider would be to re-evaluate the definition of the target variable. Perhaps only individuals who received the promotion should be considered for classification, based on whether or not they purchased. Perhaps individuals who did not receive the promotion but purchased anyway should also be considered, and still labeled as \"No\", but individuals who did not receive the promotion and did not purchase should be excluded from the data set, since they do not offer us very much information and were perhaps simply adding noise to the data.\n",
    "\n",
    "The final area for improvement that I would consider would be to do a deeper dive into the classifier models and hyperparameter optimization, to see if there is a better model than the ones considered and possibly employ GridSearch on each of the classifiers to be sure we have the best set of hyperparameters for each. I would only pursue this path after exploring the first two areas of improvement, since a more well-defined problem will always yield better results than a fancy algorithm with noisy data and an ill-defined task."
   ]
  },
  {
   "cell_type": "code",
   "execution_count": null,
   "metadata": {},
   "outputs": [],
   "source": []
  }
 ],
 "metadata": {
  "kernelspec": {
   "display_name": "Python 3",
   "language": "python",
   "name": "python3"
  },
  "language_info": {
   "codemirror_mode": {
    "name": "ipython",
    "version": 3
   },
   "file_extension": ".py",
   "mimetype": "text/x-python",
   "name": "python",
   "nbconvert_exporter": "python",
   "pygments_lexer": "ipython3",
   "version": "3.6.8"
  }
 },
 "nbformat": 4,
 "nbformat_minor": 2
}
